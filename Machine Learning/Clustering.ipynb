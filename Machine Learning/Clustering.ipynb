{
 "cells": [
  {
   "cell_type": "markdown",
   "metadata": {},
   "source": [
    "# Clustering\n",
    "\n",
    "There are multiple different algorithms for doing clustering. Clustering, however, is a algorithm that creates clusters from the data based on what fits together and is an unsupervised algorithm as it doesn't need labels to find patterns.\n",
    "\n",
    "## K Means Clustering\n",
    "\n",
    "K means clustering is an algorithm that clusters training data and can use the centers of the data to predict what cluster other, testing data would belong to.\n",
    "\n",
    "1. Clustering starts of with a random assortment of **centroids**. The number of these centroids are given by the user and denoted as **K**.\n",
    "2. The distance from each centroid for each data point is calculated and the centroid is assigned to the centroid that is closest to it. The distance can be calculated using multiple algorithms including **euclidian distance** and **manhatten distance**.\n",
    "3. After all the data points are assigned to a centroid, the centroid's location changes to the center of the data points that are assigned to it. *The change in location of the centroid also changes the distance each data point is from the different centroids.* **The cycle is therefore repeated as a data point may now be closer to another centroid.**\n",
    "\n",
    "The data will converge at one point when the data points associated to the centroid no longer change.\n",
    "\n",
    "## Hidden Markov Models\n",
    "\n",
    "Looks at a probability distribution. Predicts future events or states given the probability distributions of them occuring.\n",
    "\n",
    "Made up of a few key things: states, observations, transitions\n",
    "\n",
    "* **States:** states are the things that define what is happening. The state could be a hot day\n",
    "* **Observations:** observations are things that happen and have probabilities associated with them. The observations are associated with a state as the observations.\n",
    "* **Transitions:** transitions are the probabilities that the state transitions from one to another. A hot day has a probability that the next day will be a cold day"
   ]
  },
  {
   "cell_type": "code",
   "execution_count": 1,
   "metadata": {},
   "outputs": [],
   "source": [
    "import tensorflow as tf\n",
    "import tensorflow_probability as tfp"
   ]
  },
  {
   "cell_type": "code",
   "execution_count": 3,
   "metadata": {},
   "outputs": [],
   "source": [
    "tfd = tfp.distributions\n",
    "initial_distribution = tfd.Categorical(probs=[0.8, 0.2])\n",
    "transition_distribution = tfd.Categorical(probs=[[0.7, 0.3],\n",
    "[0.2, 0.8]])\n",
    "observation_distribution = tfd.Normal(loc=[0., 15.], scale=[5., 10.])"
   ]
  },
  {
   "cell_type": "code",
   "execution_count": 4,
   "metadata": {},
   "outputs": [],
   "source": [
    "model = tfd.HiddenMarkovModel(\n",
    "    initial_distribution=initial_distribution,\n",
    "    transition_distribution=transition_distribution,\n",
    "    observation_distribution=observation_distribution,\n",
    "    num_steps=7\n",
    ")"
   ]
  },
  {
   "cell_type": "code",
   "execution_count": 5,
   "metadata": {
    "tags": []
   },
   "outputs": [
    {
     "output_type": "stream",
     "name": "stdout",
     "text": "[2.9999998 5.9999995 7.4999995 8.25      8.625001  8.812501  8.90625  ]\n"
    }
   ],
   "source": [
    "mean = model.mean()\n",
    "\n",
    "with tf.compat.v1.Session() as sess:\n",
    "    print(mean.numpy())"
   ]
  }
 ],
 "metadata": {
  "language_info": {
   "codemirror_mode": {
    "name": "ipython",
    "version": 3
   },
   "file_extension": ".py",
   "mimetype": "text/x-python",
   "name": "python",
   "nbconvert_exporter": "python",
   "pygments_lexer": "ipython3",
   "version": 3
  },
  "orig_nbformat": 2,
  "kernelspec": {
   "name": "python_defaultSpec_1593886729962",
   "display_name": "Python 3.8.3 64-bit"
  }
 },
 "nbformat": 4,
 "nbformat_minor": 2
}