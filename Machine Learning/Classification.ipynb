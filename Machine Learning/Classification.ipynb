{
 "cells": [
  {
   "cell_type": "code",
   "execution_count": 1,
   "metadata": {},
   "outputs": [],
   "source": [
    "from __future__ import absolute_import, division, print_function, unicode_literals\n",
    "\n",
    "import tensorflow as tf\n",
    "\n",
    "import pandas as pd"
   ]
  },
  {
   "cell_type": "code",
   "execution_count": 2,
   "metadata": {},
   "outputs": [],
   "source": [
    "CSV_COLUMN_VALS = ['SepalLength', 'SepalWidth', 'PetalLength', 'PetalWidth', 'Species']\n",
    "SPECIES = ['Setosa', 'Versicolor', 'Virginica']"
   ]
  },
  {
   "cell_type": "code",
   "execution_count": 3,
   "metadata": {
    "tags": []
   },
   "outputs": [
    {
     "output_type": "stream",
     "name": "stdout",
     "text": "Downloading data from https://storage.googleapis.com/download.tensorflow.org/data/iris_training.csv\n8192/2194 [================================================================================================================] - 0s 0us/step\nDownloading data from https://storage.googleapis.com/download.tensorflow.org/data/iris_test.csv\n8192/573 [============================================================================================================================================================================================================================================================================================================================================================================================================================================] - 0s 0us/step\n"
    }
   ],
   "source": [
    "train_path = tf.keras.utils.get_file(\n",
    "    \"iris_training.csv\", \"https://storage.googleapis.com/download.tensorflow.org/data/iris_training.csv\"\n",
    ")\n",
    "test_path = tf.keras.utils.get_file(\n",
    "    \"iris_test.csv\", \"https://storage.googleapis.com/download.tensorflow.org/data/iris_test.csv\"\n",
    ")"
   ]
  },
  {
   "cell_type": "code",
   "execution_count": 4,
   "metadata": {},
   "outputs": [],
   "source": [
    "train = pd.read_csv(train_path, names=CSV_COLUMN_VALS, header=0)\n",
    "test = pd.read_csv(test_path, names=CSV_COLUMN_VALS, header=0)"
   ]
  },
  {
   "cell_type": "code",
   "execution_count": 5,
   "metadata": {},
   "outputs": [
    {
     "output_type": "execute_result",
     "data": {
      "text/plain": "   SepalLength  SepalWidth  PetalLength  PetalWidth  Species\n0          6.4         2.8          5.6         2.2        2\n1          5.0         2.3          3.3         1.0        1\n2          4.9         2.5          4.5         1.7        2\n3          4.9         3.1          1.5         0.1        0\n4          5.7         3.8          1.7         0.3        0",
      "text/html": "<div>\n<style scoped>\n    .dataframe tbody tr th:only-of-type {\n        vertical-align: middle;\n    }\n\n    .dataframe tbody tr th {\n        vertical-align: top;\n    }\n\n    .dataframe thead th {\n        text-align: right;\n    }\n</style>\n<table border=\"1\" class=\"dataframe\">\n  <thead>\n    <tr style=\"text-align: right;\">\n      <th></th>\n      <th>SepalLength</th>\n      <th>SepalWidth</th>\n      <th>PetalLength</th>\n      <th>PetalWidth</th>\n      <th>Species</th>\n    </tr>\n  </thead>\n  <tbody>\n    <tr>\n      <th>0</th>\n      <td>6.4</td>\n      <td>2.8</td>\n      <td>5.6</td>\n      <td>2.2</td>\n      <td>2</td>\n    </tr>\n    <tr>\n      <th>1</th>\n      <td>5.0</td>\n      <td>2.3</td>\n      <td>3.3</td>\n      <td>1.0</td>\n      <td>1</td>\n    </tr>\n    <tr>\n      <th>2</th>\n      <td>4.9</td>\n      <td>2.5</td>\n      <td>4.5</td>\n      <td>1.7</td>\n      <td>2</td>\n    </tr>\n    <tr>\n      <th>3</th>\n      <td>4.9</td>\n      <td>3.1</td>\n      <td>1.5</td>\n      <td>0.1</td>\n      <td>0</td>\n    </tr>\n    <tr>\n      <th>4</th>\n      <td>5.7</td>\n      <td>3.8</td>\n      <td>1.7</td>\n      <td>0.3</td>\n      <td>0</td>\n    </tr>\n  </tbody>\n</table>\n</div>"
     },
     "metadata": {},
     "execution_count": 5
    }
   ],
   "source": [
    "train.head()"
   ]
  },
  {
   "cell_type": "code",
   "execution_count": 6,
   "metadata": {},
   "outputs": [
    {
     "output_type": "execute_result",
     "data": {
      "text/plain": "   SepalLength  SepalWidth  PetalLength  PetalWidth\n0          6.4         2.8          5.6         2.2\n1          5.0         2.3          3.3         1.0\n2          4.9         2.5          4.5         1.7\n3          4.9         3.1          1.5         0.1\n4          5.7         3.8          1.7         0.3",
      "text/html": "<div>\n<style scoped>\n    .dataframe tbody tr th:only-of-type {\n        vertical-align: middle;\n    }\n\n    .dataframe tbody tr th {\n        vertical-align: top;\n    }\n\n    .dataframe thead th {\n        text-align: right;\n    }\n</style>\n<table border=\"1\" class=\"dataframe\">\n  <thead>\n    <tr style=\"text-align: right;\">\n      <th></th>\n      <th>SepalLength</th>\n      <th>SepalWidth</th>\n      <th>PetalLength</th>\n      <th>PetalWidth</th>\n    </tr>\n  </thead>\n  <tbody>\n    <tr>\n      <th>0</th>\n      <td>6.4</td>\n      <td>2.8</td>\n      <td>5.6</td>\n      <td>2.2</td>\n    </tr>\n    <tr>\n      <th>1</th>\n      <td>5.0</td>\n      <td>2.3</td>\n      <td>3.3</td>\n      <td>1.0</td>\n    </tr>\n    <tr>\n      <th>2</th>\n      <td>4.9</td>\n      <td>2.5</td>\n      <td>4.5</td>\n      <td>1.7</td>\n    </tr>\n    <tr>\n      <th>3</th>\n      <td>4.9</td>\n      <td>3.1</td>\n      <td>1.5</td>\n      <td>0.1</td>\n    </tr>\n    <tr>\n      <th>4</th>\n      <td>5.7</td>\n      <td>3.8</td>\n      <td>1.7</td>\n      <td>0.3</td>\n    </tr>\n  </tbody>\n</table>\n</div>"
     },
     "metadata": {},
     "execution_count": 6
    }
   ],
   "source": [
    "train_y = train.pop('Species')\n",
    "test_y = test.pop('Species')\n",
    "train.head()"
   ]
  },
  {
   "cell_type": "code",
   "execution_count": 7,
   "metadata": {},
   "outputs": [
    {
     "output_type": "execute_result",
     "data": {
      "text/plain": "(120, 4)"
     },
     "metadata": {},
     "execution_count": 7
    }
   ],
   "source": [
    "train.shape"
   ]
  },
  {
   "cell_type": "code",
   "execution_count": 8,
   "metadata": {},
   "outputs": [
    {
     "output_type": "execute_result",
     "data": {
      "text/plain": "(30, 4)"
     },
     "metadata": {},
     "execution_count": 8
    }
   ],
   "source": [
    "test.shape"
   ]
  },
  {
   "cell_type": "code",
   "execution_count": 9,
   "metadata": {},
   "outputs": [],
   "source": [
    "def input_fn(features, labels, training=True, batch_size=256):\n",
    "    dataset = tf.data.Dataset.from_tensor_slices((\n",
    "        dict(features), labels\n",
    "    ))\n",
    "\n",
    "    if training:\n",
    "        dataset = dataset.shuffle(1000).repeat()\n",
    "    \n",
    "    return dataset.batch(batch_size)"
   ]
  },
  {
   "cell_type": "code",
   "execution_count": 10,
   "metadata": {
    "tags": []
   },
   "outputs": [
    {
     "output_type": "stream",
     "name": "stdout",
     "text": "[NumericColumn(key='SepalLength', shape=(1,), default_value=None, dtype=tf.float32, normalizer_fn=None), NumericColumn(key='SepalWidth', shape=(1,), default_value=None, dtype=tf.float32, normalizer_fn=None), NumericColumn(key='PetalLength', shape=(1,), default_value=None, dtype=tf.float32, normalizer_fn=None), NumericColumn(key='PetalWidth', shape=(1,), default_value=None, dtype=tf.float32, normalizer_fn=None)]\n"
    }
   ],
   "source": [
    "my_feature_columns = []\n",
    "for key in train.keys():\n",
    "    my_feature_columns.append(tf.feature_column.numeric_column(key=key))\n",
    "print(my_feature_columns)"
   ]
  },
  {
   "cell_type": "code",
   "execution_count": 11,
   "metadata": {},
   "outputs": [
    {
     "output_type": "execute_result",
     "data": {
      "text/plain": "Index(['SepalLength', 'SepalWidth', 'PetalLength', 'PetalWidth'], dtype='object')"
     },
     "metadata": {},
     "execution_count": 11
    }
   ],
   "source": [
    "train.keys()"
   ]
  },
  {
   "cell_type": "code",
   "execution_count": 12,
   "metadata": {
    "tags": []
   },
   "outputs": [
    {
     "output_type": "stream",
     "name": "stdout",
     "text": "INFO:tensorflow:Using default config.\nWARNING:tensorflow:Using temporary folder as model directory: /tmp/tmphjgbngv3\nINFO:tensorflow:Using config: {'_model_dir': '/tmp/tmphjgbngv3', '_tf_random_seed': None, '_save_summary_steps': 100, '_save_checkpoints_steps': None, '_save_checkpoints_secs': 600, '_session_config': allow_soft_placement: true\ngraph_options {\n  rewrite_options {\n    meta_optimizer_iterations: ONE\n  }\n}\n, '_keep_checkpoint_max': 5, '_keep_checkpoint_every_n_hours': 10000, '_log_step_count_steps': 100, '_train_distribute': None, '_device_fn': None, '_protocol': None, '_eval_distribute': None, '_experimental_distribute': None, '_experimental_max_worker_delay_secs': None, '_session_creation_timeout_secs': 7200, '_service': None, '_cluster_spec': ClusterSpec({}), '_task_type': 'worker', '_task_id': 0, '_global_id_in_cluster': 0, '_master': '', '_evaluation_master': '', '_is_chief': True, '_num_ps_replicas': 0, '_num_worker_replicas': 1}\n"
    }
   ],
   "source": [
    "classifier = tf.estimator.DNNClassifier(\n",
    "    feature_columns=my_feature_columns,\n",
    "    hidden_units=[30, 10],\n",
    "    n_classes=3\n",
    ")"
   ]
  },
  {
   "cell_type": "code",
   "execution_count": 13,
   "metadata": {
    "tags": []
   },
   "outputs": [
    {
     "output_type": "stream",
     "name": "stdout",
     "text": "WARNING:tensorflow:From /home/chaitanya/.local/lib/python3.8/site-packages/tensorflow/python/ops/resource_variable_ops.py:1659: calling BaseResourceVariable.__init__ (from tensorflow.python.ops.resource_variable_ops) with constraint is deprecated and will be removed in a future version.\nInstructions for updating:\nIf using Keras pass *_constraint arguments to layers.\nWARNING:tensorflow:From /home/chaitanya/.local/lib/python3.8/site-packages/tensorflow/python/training/training_util.py:235: Variable.initialized_value (from tensorflow.python.ops.variables) is deprecated and will be removed in a future version.\nInstructions for updating:\nUse Variable.read_value. Variables in 2.X are initialized automatically both in eager and graph (inside tf.defun) contexts.\nINFO:tensorflow:Calling model_fn.\nWARNING:tensorflow:Layer dnn is casting an input tensor from dtype float64 to the layer's dtype of float32, which is new behavior in TensorFlow 2.  The layer has dtype float32 because it's dtype defaults to floatx.\n\nIf you intended to run this layer in float32, you can safely ignore this warning. If in doubt, this warning is likely only an issue if you are porting a TensorFlow 1.X model to TensorFlow 2.\n\nTo change all layers to have dtype float64 by default, call `tf.keras.backend.set_floatx('float64')`. To change just this layer, pass dtype='float64' to the layer constructor. If you are the author of this layer, you can disable autocasting by passing autocast=False to the base Layer constructor.\n\nWARNING:tensorflow:From /home/chaitanya/.local/lib/python3.8/site-packages/tensorflow/python/keras/optimizer_v2/adagrad.py:105: calling Constant.__init__ (from tensorflow.python.ops.init_ops) with dtype is deprecated and will be removed in a future version.\nInstructions for updating:\nCall initializer instance with the dtype argument instead of passing it to the constructor\nINFO:tensorflow:Done calling model_fn.\nINFO:tensorflow:Create CheckpointSaverHook.\nINFO:tensorflow:Graph was finalized.\nINFO:tensorflow:Running local_init_op.\nINFO:tensorflow:Done running local_init_op.\nINFO:tensorflow:Calling checkpoint listeners before saving checkpoint 0...\nINFO:tensorflow:Saving checkpoints for 0 into /tmp/tmphjgbngv3/model.ckpt.\nINFO:tensorflow:Calling checkpoint listeners after saving checkpoint 0...\nINFO:tensorflow:loss = 1.1142237, step = 0\nINFO:tensorflow:global_step/sec: 592.883\nINFO:tensorflow:loss = 0.92743593, step = 100 (0.169 sec)\nINFO:tensorflow:global_step/sec: 808.372\nINFO:tensorflow:loss = 0.86889887, step = 200 (0.124 sec)\nINFO:tensorflow:global_step/sec: 842.086\nINFO:tensorflow:loss = 0.8184632, step = 300 (0.119 sec)\nINFO:tensorflow:global_step/sec: 769.469\nINFO:tensorflow:loss = 0.78581226, step = 400 (0.130 sec)\nINFO:tensorflow:global_step/sec: 730.586\nINFO:tensorflow:loss = 0.75038916, step = 500 (0.139 sec)\nINFO:tensorflow:global_step/sec: 726.619\nINFO:tensorflow:loss = 0.7231226, step = 600 (0.136 sec)\nINFO:tensorflow:global_step/sec: 739.09\nINFO:tensorflow:loss = 0.6938636, step = 700 (0.135 sec)\nINFO:tensorflow:global_step/sec: 756.638\nINFO:tensorflow:loss = 0.67640847, step = 800 (0.132 sec)\nINFO:tensorflow:global_step/sec: 820.134\nINFO:tensorflow:loss = 0.6484902, step = 900 (0.122 sec)\nINFO:tensorflow:global_step/sec: 775.498\nINFO:tensorflow:loss = 0.6231125, step = 1000 (0.129 sec)\nINFO:tensorflow:global_step/sec: 846.16\nINFO:tensorflow:loss = 0.60179657, step = 1100 (0.118 sec)\nINFO:tensorflow:global_step/sec: 884.238\nINFO:tensorflow:loss = 0.58706003, step = 1200 (0.113 sec)\nINFO:tensorflow:global_step/sec: 882.422\nINFO:tensorflow:loss = 0.56882906, step = 1300 (0.114 sec)\nINFO:tensorflow:global_step/sec: 907.789\nINFO:tensorflow:loss = 0.5497385, step = 1400 (0.110 sec)\nINFO:tensorflow:global_step/sec: 878.055\nINFO:tensorflow:loss = 0.5333152, step = 1500 (0.114 sec)\nINFO:tensorflow:global_step/sec: 901.923\nINFO:tensorflow:loss = 0.5154694, step = 1600 (0.111 sec)\nINFO:tensorflow:global_step/sec: 905.076\nINFO:tensorflow:loss = 0.506011, step = 1700 (0.111 sec)\nINFO:tensorflow:global_step/sec: 881.371\nINFO:tensorflow:loss = 0.48514417, step = 1800 (0.113 sec)\nINFO:tensorflow:global_step/sec: 865.265\nINFO:tensorflow:loss = 0.47071028, step = 1900 (0.115 sec)\nINFO:tensorflow:global_step/sec: 886.863\nINFO:tensorflow:loss = 0.45515674, step = 2000 (0.113 sec)\nINFO:tensorflow:global_step/sec: 753.566\nINFO:tensorflow:loss = 0.44304454, step = 2100 (0.133 sec)\nINFO:tensorflow:global_step/sec: 883.456\nINFO:tensorflow:loss = 0.43337035, step = 2200 (0.114 sec)\nINFO:tensorflow:global_step/sec: 877.124\nINFO:tensorflow:loss = 0.4174729, step = 2300 (0.114 sec)\nINFO:tensorflow:global_step/sec: 892.044\nINFO:tensorflow:loss = 0.40594563, step = 2400 (0.111 sec)\nINFO:tensorflow:global_step/sec: 891.387\nINFO:tensorflow:loss = 0.39557806, step = 2500 (0.113 sec)\nINFO:tensorflow:global_step/sec: 902.416\nINFO:tensorflow:loss = 0.37827113, step = 2600 (0.111 sec)\nINFO:tensorflow:global_step/sec: 888.14\nINFO:tensorflow:loss = 0.3763535, step = 2700 (0.112 sec)\nINFO:tensorflow:global_step/sec: 849.725\nINFO:tensorflow:loss = 0.3689046, step = 2800 (0.118 sec)\nINFO:tensorflow:global_step/sec: 876.679\nINFO:tensorflow:loss = 0.36070156, step = 2900 (0.114 sec)\nINFO:tensorflow:global_step/sec: 664.244\nINFO:tensorflow:loss = 0.34684956, step = 3000 (0.152 sec)\nINFO:tensorflow:global_step/sec: 752.879\nINFO:tensorflow:loss = 0.34524927, step = 3100 (0.132 sec)\nINFO:tensorflow:global_step/sec: 880.94\nINFO:tensorflow:loss = 0.33050603, step = 3200 (0.114 sec)\nINFO:tensorflow:global_step/sec: 718.475\nINFO:tensorflow:loss = 0.32204127, step = 3300 (0.141 sec)\nINFO:tensorflow:global_step/sec: 826.185\nINFO:tensorflow:loss = 0.30927294, step = 3400 (0.120 sec)\nINFO:tensorflow:global_step/sec: 811.675\nINFO:tensorflow:loss = 0.30074495, step = 3500 (0.123 sec)\nINFO:tensorflow:global_step/sec: 721.121\nINFO:tensorflow:loss = 0.30531317, step = 3600 (0.139 sec)\nINFO:tensorflow:global_step/sec: 837.643\nINFO:tensorflow:loss = 0.28883377, step = 3700 (0.119 sec)\nINFO:tensorflow:global_step/sec: 728.942\nINFO:tensorflow:loss = 0.29415685, step = 3800 (0.137 sec)\nINFO:tensorflow:global_step/sec: 847.944\nINFO:tensorflow:loss = 0.28077817, step = 3900 (0.117 sec)\nINFO:tensorflow:global_step/sec: 834.588\nINFO:tensorflow:loss = 0.26520705, step = 4000 (0.120 sec)\nINFO:tensorflow:global_step/sec: 760.375\nINFO:tensorflow:loss = 0.27871856, step = 4100 (0.132 sec)\nINFO:tensorflow:global_step/sec: 869.895\nINFO:tensorflow:loss = 0.2646858, step = 4200 (0.115 sec)\nINFO:tensorflow:global_step/sec: 829.949\nINFO:tensorflow:loss = 0.2711007, step = 4300 (0.121 sec)\nINFO:tensorflow:global_step/sec: 765.648\nINFO:tensorflow:loss = 0.2587294, step = 4400 (0.131 sec)\nINFO:tensorflow:global_step/sec: 872.445\nINFO:tensorflow:loss = 0.25020033, step = 4500 (0.114 sec)\nINFO:tensorflow:global_step/sec: 877.396\nINFO:tensorflow:loss = 0.2406713, step = 4600 (0.114 sec)\nINFO:tensorflow:global_step/sec: 714.48\nINFO:tensorflow:loss = 0.24901319, step = 4700 (0.140 sec)\nINFO:tensorflow:global_step/sec: 886.651\nINFO:tensorflow:loss = 0.24440819, step = 4800 (0.113 sec)\nINFO:tensorflow:global_step/sec: 909.184\nINFO:tensorflow:loss = 0.23651111, step = 4900 (0.112 sec)\nINFO:tensorflow:Calling checkpoint listeners before saving checkpoint 5000...\nINFO:tensorflow:Saving checkpoints for 5000 into /tmp/tmphjgbngv3/model.ckpt.\nINFO:tensorflow:Calling checkpoint listeners after saving checkpoint 5000...\nINFO:tensorflow:Loss for final step: 0.2264961.\n"
    },
    {
     "output_type": "execute_result",
     "data": {
      "text/plain": "<tensorflow_estimator.python.estimator.canned.dnn.DNNClassifierV2 at 0x7f3c94199b50>"
     },
     "metadata": {},
     "execution_count": 13
    }
   ],
   "source": [
    "classifier.train(\n",
    "    input_fn=lambda: input_fn(train, train_y, training=True), steps=5000\n",
    ")"
   ]
  },
  {
   "cell_type": "code",
   "execution_count": 15,
   "metadata": {
    "tags": []
   },
   "outputs": [
    {
     "output_type": "stream",
     "name": "stdout",
     "text": "INFO:tensorflow:Calling model_fn.\nWARNING:tensorflow:Layer dnn is casting an input tensor from dtype float64 to the layer's dtype of float32, which is new behavior in TensorFlow 2.  The layer has dtype float32 because it's dtype defaults to floatx.\n\nIf you intended to run this layer in float32, you can safely ignore this warning. If in doubt, this warning is likely only an issue if you are porting a TensorFlow 1.X model to TensorFlow 2.\n\nTo change all layers to have dtype float64 by default, call `tf.keras.backend.set_floatx('float64')`. To change just this layer, pass dtype='float64' to the layer constructor. If you are the author of this layer, you can disable autocasting by passing autocast=False to the base Layer constructor.\n\nINFO:tensorflow:Done calling model_fn.\nINFO:tensorflow:Starting evaluation at 2020-07-04T13:03:43Z\nINFO:tensorflow:Graph was finalized.\nINFO:tensorflow:Restoring parameters from /tmp/tmphjgbngv3/model.ckpt-5000\nINFO:tensorflow:Running local_init_op.\nINFO:tensorflow:Done running local_init_op.\nINFO:tensorflow:Inference Time : 0.16311s\nINFO:tensorflow:Finished evaluation at 2020-07-04-13:03:43\nINFO:tensorflow:Saving dict for global step 5000: accuracy = 0.96666664, average_loss = 0.25566658, global_step = 5000, loss = 0.25566658\nINFO:tensorflow:Saving 'checkpoint_path' summary for global step 5000: /tmp/tmphjgbngv3/model.ckpt-5000\n\nTest set accuracy: 0.967\n\n"
    }
   ],
   "source": [
    "eval_result = classifier.evaluate(input_fn=lambda: input_fn(test, test_y, training=False))\n",
    "print('\\nTest set accuracy: {accuracy:0.3f}\\n'.format(**eval_result))"
   ]
  },
  {
   "cell_type": "code",
   "execution_count": 26,
   "metadata": {
    "tags": []
   },
   "outputs": [
    {
     "output_type": "stream",
     "name": "stdout",
     "text": "Please type numeric values as prompted.\nINFO:tensorflow:Calling model_fn.\nINFO:tensorflow:Done calling model_fn.\nINFO:tensorflow:Graph was finalized.\nINFO:tensorflow:Restoring parameters from /tmp/tmphjgbngv3/model.ckpt-5000\nINFO:tensorflow:Running local_init_op.\nINFO:tensorflow:Done running local_init_op.\n{'logits': array([-3.215707  , -0.71181643,  0.2743957 ], dtype=float32), 'probabilities': array([0.02173001, 0.2657577 , 0.71251225], dtype=float32), 'class_ids': array([2]), 'classes': array([b'2'], dtype=object), 'all_class_ids': array([0, 1, 2], dtype=int32), 'all_classes': array([b'0', b'1', b'2'], dtype=object)}\nPrediction is \"Virginica\" (71.3%)\n"
    }
   ],
   "source": [
    "def input_fn_predict(features, batch_size=256):\n",
    "    return tf.data.Dataset.from_tensor_slices(dict(features)).batch(batch_size)\n",
    "\n",
    "features = ['SepalLength', 'SepalWidth', 'PetalLength', 'PetalWidth']\n",
    "predict = {}\n",
    "\n",
    "print(\"Please type numeric values as prompted.\")\n",
    "\n",
    "for feature in features:\n",
    "    valid = True\n",
    "    val = None\n",
    "    while valid:\n",
    "        val = input(feature + \": \")\n",
    "        if not val.isdigit():\n",
    "            valid = False\n",
    "        else:\n",
    "            valid = True\n",
    "    predict[feature] = [float(val)]\n",
    "\n",
    "predictions = classifier.predict(input_fn=lambda: input_fn_predict(predict))\n",
    "for pred_dict in predictions:\n",
    "    print(pred_dict)\n",
    "    class_id = pred_dict['class_ids'][0]\n",
    "    probability = pred_dict['probabilities'][class_id]\n",
    "\n",
    "    print('Prediction is \"{}\" ({:.1f}%)'.format(\n",
    "        SPECIES[class_id], 100 * probability\n",
    "    ))"
   ]
  }
 ],
 "metadata": {
  "language_info": {
   "codemirror_mode": {
    "name": "ipython",
    "version": 3
   },
   "file_extension": ".py",
   "mimetype": "text/x-python",
   "name": "python",
   "nbconvert_exporter": "python",
   "pygments_lexer": "ipython3",
   "version": 3
  },
  "orig_nbformat": 2,
  "kernelspec": {
   "name": "python_defaultSpec_1593884555934",
   "display_name": "Python 3.8.3 64-bit"
  }
 },
 "nbformat": 4,
 "nbformat_minor": 2
}